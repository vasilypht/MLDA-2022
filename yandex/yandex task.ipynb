{
 "cells": [
  {
   "cell_type": "code",
   "execution_count": 119,
   "id": "17e594ae-e537-4b33-bd3b-5b4dcd31d5d2",
   "metadata": {},
   "outputs": [],
   "source": [
    "import re\n",
    "import warnings\n",
    "warnings.filterwarnings('ignore')\n",
    "import pickle\n",
    "\n",
    "import pandas as pd\n",
    "import numpy as np\n",
    "\n",
    "import nltk\n",
    "from nltk.corpus import stopwords\n",
    "from nltk.stem.snowball import SnowballStemmer\n",
    "\n",
    "from sklearn.linear_model import (\n",
    "    LogisticRegression\n",
    ")\n",
    "from sklearn.model_selection import (\n",
    "    cross_val_score,\n",
    "    RandomizedSearchCV,\n",
    "    train_test_split\n",
    ")\n",
    "from sklearn.metrics import (\n",
    "    accuracy_score,\n",
    "    classification_report,\n",
    "    f1_score\n",
    ")\n",
    "from sklearn.pipeline import Pipeline\n",
    "from sklearn.feature_extraction.text import (\n",
    "    CountVectorizer,\n",
    "    TfidfVectorizer\n",
    ")\n",
    "from sklearn.linear_model import (\n",
    "    LogisticRegression,\n",
    "    SGDClassifier\n",
    ")\n",
    "from sklearn.svm import (\n",
    "    SVC,\n",
    "    LinearSVC\n",
    ")\n",
    "from sklearn.ensemble import (\n",
    "    RandomForestClassifier,\n",
    "    AdaBoostClassifier\n",
    ")\n",
    "from sklearn.naive_bayes import (\n",
    "    GaussianNB\n",
    ")\n",
    "from sklearn.neural_network import (\n",
    "    MLPClassifier\n",
    ")\n",
    "from sklearn.neighbors import (\n",
    "    KNeighborsClassifier\n",
    ")\n",
    "\n",
    "import pymystem3\n"
   ]
  },
  {
   "cell_type": "code",
   "execution_count": 2,
   "id": "61f315ac-afb0-435e-b56a-55fc098ef9d9",
   "metadata": {},
   "outputs": [
    {
     "data": {
      "text/html": [
       "<div>\n",
       "<style scoped>\n",
       "    .dataframe tbody tr th:only-of-type {\n",
       "        vertical-align: middle;\n",
       "    }\n",
       "\n",
       "    .dataframe tbody tr th {\n",
       "        vertical-align: top;\n",
       "    }\n",
       "\n",
       "    .dataframe thead th {\n",
       "        text-align: right;\n",
       "    }\n",
       "</style>\n",
       "<table border=\"1\" class=\"dataframe\">\n",
       "  <thead>\n",
       "    <tr style=\"text-align: right;\">\n",
       "      <th></th>\n",
       "      <th>text</th>\n",
       "      <th>rating</th>\n",
       "    </tr>\n",
       "  </thead>\n",
       "  <tbody>\n",
       "    <tr>\n",
       "      <th>0</th>\n",
       "      <td>несколько месяцев Смартфон, действительно очен...</td>\n",
       "      <td>5</td>\n",
       "    </tr>\n",
       "    <tr>\n",
       "      <th>1</th>\n",
       "      <td>менее месяца яркость экрана, 5000 мач, удобно ...</td>\n",
       "      <td>5</td>\n",
       "    </tr>\n",
       "    <tr>\n",
       "      <th>2</th>\n",
       "      <td>менее месяца Удобно лежит в руке, отличные фот...</td>\n",
       "      <td>5</td>\n",
       "    </tr>\n",
       "    <tr>\n",
       "      <th>3</th>\n",
       "      <td>менее месяца Обычный смартфон, хорошее качеств...</td>\n",
       "      <td>4</td>\n",
       "    </tr>\n",
       "    <tr>\n",
       "      <th>4</th>\n",
       "      <td>несколько месяцев Хорошая связь. 4g_3g мобильн...</td>\n",
       "      <td>4</td>\n",
       "    </tr>\n",
       "  </tbody>\n",
       "</table>\n",
       "</div>"
      ],
      "text/plain": [
       "                                                text  rating\n",
       "0  несколько месяцев Смартфон, действительно очен...       5\n",
       "1  менее месяца яркость экрана, 5000 мач, удобно ...       5\n",
       "2  менее месяца Удобно лежит в руке, отличные фот...       5\n",
       "3  менее месяца Обычный смартфон, хорошее качеств...       4\n",
       "4  несколько месяцев Хорошая связь. 4g_3g мобильн...       4"
      ]
     },
     "execution_count": 2,
     "metadata": {},
     "output_type": "execute_result"
    }
   ],
   "source": [
    "df = pd.read_json(\"train_yandex_market.json\", lines=True)\n",
    "df.head(5)"
   ]
  },
  {
   "cell_type": "code",
   "execution_count": 3,
   "id": "381a54f6-47b6-4a43-b3d3-cd4e60d1c0f3",
   "metadata": {},
   "outputs": [],
   "source": [
    "X = df.text\n",
    "y = df.rating"
   ]
  },
  {
   "cell_type": "code",
   "execution_count": 4,
   "id": "20b94be9-e34f-4bf7-a0a8-86ab4c882711",
   "metadata": {},
   "outputs": [],
   "source": [
    "y13_45 = y.map(lambda x: 1 if x > 3 else 0)\n",
    "y14_5 = y.map(lambda x: 1 if x > 4 else 0)"
   ]
  },
  {
   "cell_type": "code",
   "execution_count": 5,
   "id": "f64dc159-b2e1-44ad-b81a-51d1528e9e23",
   "metadata": {},
   "outputs": [
    {
     "name": "stdout",
     "output_type": "stream",
     "text": [
      "1    54057\n",
      "0     9431\n",
      "Name: rating, dtype: int64\n",
      "\n",
      "1    46100\n",
      "0    17388\n",
      "Name: rating, dtype: int64\n"
     ]
    }
   ],
   "source": [
    "print(y13_45.value_counts(), end=\"\\n\\n\")\n",
    "print(y14_5.value_counts())"
   ]
  },
  {
   "cell_type": "code",
   "execution_count": 6,
   "id": "5dd9340b-1b83-4eda-9f2e-d7437d9af0d9",
   "metadata": {},
   "outputs": [],
   "source": [
    "regex_spec_char = re.compile(r\"\\W\")\n",
    "regex_multi_spaces = re.compile(r\"\\s+\")\n",
    "regex_digits = re.compile(r\"\\d+\")"
   ]
  },
  {
   "cell_type": "code",
   "execution_count": 102,
   "id": "8405d83f-010f-4fa6-99fe-190d20c5f8e8",
   "metadata": {},
   "outputs": [
    {
     "data": {
      "text/plain": [
       "0    несколько месяцев смартфон действительно очень...\n",
       "1    менее месяца яркость экрана мач удобно лежит в...\n",
       "2    менее месяца удобно лежит в руке отличные фото...\n",
       "3    менее месяца обычный смартфон хорошее качество...\n",
       "4    несколько месяцев хорошая связь g_ g мобильная...\n",
       "5    несколько месяцев быстрый хорошая камера не на...\n",
       "6    менее месяца отличный экран приятный современн...\n",
       "7    несколько месяцев в комплекте есть прозрачный ...\n",
       "8    несколько месяцев телефон супер нет отличный т...\n",
       "9    несколько месяцев экран супер герц очень радуе...\n",
       "Name: text, dtype: object"
      ]
     },
     "execution_count": 102,
     "metadata": {},
     "output_type": "execute_result"
    }
   ],
   "source": [
    "# Convert everything to lowercase\n",
    "X_proc = X.map(lambda sen: sen.lower())\n",
    "\n",
    "# Remove special characters\n",
    "X_proc = X_proc.map(lambda sen: regex_spec_char.sub(r\" \", sen))\n",
    "\n",
    "# Remove all digits\n",
    "X_proc = X_proc.map(lambda sen: regex_digits.sub(r\" \", sen))\n",
    "\n",
    "# Convert all spaces to one\n",
    "X_proc = X_proc.map(lambda sen: regex_multi_spaces.sub(r\" \", sen))\n",
    "\n",
    "X_proc.head(10)"
   ]
  },
  {
   "cell_type": "code",
   "execution_count": 8,
   "id": "d6ed2fd4-4366-4b4d-9aa5-134dff0c9056",
   "metadata": {},
   "outputs": [
    {
     "name": "stdout",
     "output_type": "stream",
     "text": [
      "CPU times: user 3min 1s, sys: 1.21 s, total: 3min 2s\n",
      "Wall time: 5min 15s\n"
     ]
    }
   ],
   "source": [
    "%%time\n",
    "snow_stemmer = SnowballStemmer(\"russian\")\n",
    "lem = pymystem3.Mystem()\n",
    "\n",
    "X_stem = X_proc.map(lambda sentence: ' '.join(snow_stemmer.stem(word) for word in nltk.word_tokenize(sentence)))\n",
    "X_lem = X_proc.map(lambda sentence: ''.join(lem.lemmatize(sentence)))"
   ]
  },
  {
   "cell_type": "code",
   "execution_count": 103,
   "id": "14d1c54c-dd5c-42e1-bcb9-f7c2cca58c5a",
   "metadata": {},
   "outputs": [
    {
     "data": {
      "text/plain": [
       "0    нескольк месяц смартфон действительн очен шуст...\n",
       "1    мен месяц яркост экра мач удобн леж в рук огро...\n",
       "2    мен месяц удобн леж в рук отличн фот за сво де...\n",
       "3    мен месяц обычн смартфон хорош качеств сборк э...\n",
       "4    нескольк месяц хорош связ g_ g мобильн связ бе...\n",
       "Name: text, dtype: object"
      ]
     },
     "execution_count": 103,
     "metadata": {},
     "output_type": "execute_result"
    }
   ],
   "source": [
    "X_stem.head(5)"
   ]
  },
  {
   "cell_type": "code",
   "execution_count": 104,
   "id": "675c2897-0e0e-452b-a721-98b7c07d7207",
   "metadata": {},
   "outputs": [
    {
     "data": {
      "text/plain": [
       "0    несколько месяц смартфон действительно очень ш...\n",
       "1    менее месяц яркость экран мач удобно лежать в ...\n",
       "2    мало месяц удобно лежать в рука отличный фото ...\n",
       "3    менее месяц обычный смартфон хороший качество ...\n",
       "4    несколько месяц хороший связь g_ g мобильный с...\n",
       "Name: text, dtype: object"
      ]
     },
     "execution_count": 104,
     "metadata": {},
     "output_type": "execute_result"
    }
   ],
   "source": [
    "X_lem.head(5)"
   ]
  },
  {
   "cell_type": "code",
   "execution_count": 9,
   "id": "f29838a1-386b-4a56-ae70-6e247bad16d0",
   "metadata": {},
   "outputs": [],
   "source": [
    "custom_stopwords = ['во', 'что', 'на', 'я', 'с', 'со', 'как', 'а', 'то', 'все', 'она', 'так', 'его', 'но', 'да',\n",
    "                    'ты', 'к', 'у', 'же', 'вы', 'за', 'бы', 'по', 'только', 'ее', 'мне', 'было', 'вот', 'от', 'еще',\n",
    "                    'о', 'из', 'теперь', 'когда', 'даже', 'ну', 'вдруг', 'ли', 'если', 'уже', 'или', 'него', 'до',\n",
    "                    'вас', 'нибудь', 'опять', 'уж', 'вам', 'ведь', 'там', 'потом', 'себя', 'ничего', 'ей', 'может',\n",
    "                    'они', 'тут', 'где', 'надо', 'ней', 'для', 'мы', 'тебя', 'их', 'чем', 'была', 'сам', 'чтоб',\n",
    "                    'будто', 'чего', 'раз', 'тоже', 'себе', 'под', 'будет', 'ж', 'тогда', 'кто', 'этот', 'того',\n",
    "                    'потому', 'этого', 'какой', 'совсем', 'ним', 'здесь', 'этом', 'один', 'почти', 'мой', 'тем',\n",
    "                    'чтобы', 'нее', 'сейчас', 'куда', 'всех', 'можно', 'при', 'наконец', 'два', 'об', 'другой',\n",
    "                    'хоть', 'после', 'над', 'больше', 'тот', 'через', 'эти', 'нас', 'про', 'всего', 'них', 'какая',\n",
    "                    'разве', 'три', 'эту', 'моя', 'впрочем', 'свою', 'этой', 'перед', 'иногда', 'чуть', 'том', 'такой', 'им', 'всегда', 'всю', 'между']"
   ]
  },
  {
   "cell_type": "code",
   "execution_count": 61,
   "id": "91e89e71-ce78-4520-8a44-706242f5e86b",
   "metadata": {},
   "outputs": [],
   "source": [
    "parameters_grid_vectorizer_bow = {\n",
    "    'vectorizer__max_df' : [0.8, 0.9, 1.0],\n",
    "    'vectorizer__analyzer': ('word', 'char', 'char_wb'),\n",
    "    'vectorizer__min_df' : [1, 2, 3], \n",
    "    'vectorizer__ngram_range' : [(1, 1), (1, 2), (2, 2), (2, 3)],\n",
    "    'vectorizer__stop_words' : [custom_stopwords, None],\n",
    "    'vectorizer__binary': (False, True),\n",
    "    'vectorizer__lowercase': (False, True)\n",
    "}\n",
    "\n",
    "parameters_grid_vectorizer_tfidf = {\n",
    "    'vectorizer__max_df' : [0.8, 0.9, 1.0],\n",
    "    'vectorizer__analyzer': ('word', 'char', 'char_wb'),\n",
    "    'vectorizer__min_df' : [1, 2, 3], \n",
    "    'vectorizer__ngram_range' : [(1, 1), (1, 2), (2, 2), (2, 3)],\n",
    "    'vectorizer__stop_words' : [custom_stopwords, None],\n",
    "    'vectorizer__use_idf': (False, True),\n",
    "    'vectorizer__binary': (False, True),\n",
    "    'vectorizer__smooth_idf': (False, True),\n",
    "    'vectorizer__sublinear_tf': (False, True),\n",
    "}\n",
    "\n",
    "\n",
    "parameters_grid_sgd = {\n",
    "    'classifier__loss': ('hinge', 'log', 'modified_huber', 'squared_hinge', 'perceptron'),\n",
    "    'classifier__penalty': ('l2', 'l1', 'elasticnet'),\n",
    "    'classifier__class_weight': ('balanced', None)   \n",
    "}\n",
    "parameters_grid_svc = {\n",
    "    'classifier__C': (0.6, 0.7, 0.8, 0.9, 1.0, 1.1, 1.2, 1.3, 1.4),\n",
    "    'classifier__kernel': ('linear', 'poly', 'rbf'),\n",
    "    'classifier__degree': (2, 3, 4, 5, 6),\n",
    "    'classifier__tol': (1e-4, 1e-5),\n",
    "    'classifier__gamma': ('scale', 'auto'),\n",
    "    'classifier__class_weight': ('balanced', None),\n",
    "}\n",
    "parameters_grid_linsvc = {\n",
    "    'classifier__penalty': ('l1', 'l2'),\n",
    "    'classifier__loss': ('hinge', 'squared_hinge'),\n",
    "    'classifier__C': (0.6, 0.7, 0.8, 0.9, 1.0, 1.1, 1.2, 1.3, 1.4),\n",
    "    'classifier__multi_class': ('ovr', 'crammer_singer'),\n",
    "    'classifier__intercept_scaling': (1.0, 1.1, 1.2, 1.3),\n",
    "    'classifier__class_weight': ('balanced', None)   \n",
    "}\n",
    "parameters_grid_randforest = {\n",
    "    'classifier__n_estimators': (50, 100, 200),\n",
    "    'classifier__criterion': ('gini', 'entropy'),\n",
    "    'classifier__max_features': ('auto', 'sqrt', 'log2'),\n",
    "    'classifier__class_weight': ('balanced', 'balanced_subsample', None)\n",
    "}\n",
    "parameters_grid_logreg = {\n",
    "    'classifier__C' : (0.6, 0.7, 0.8, 0.9, 1.0, 1.1, 1.2, 1.3, 1.4, ), \n",
    "    'classifier__max_iter' : (50, 100, 150, 200, 250, 300), \n",
    "    'classifier__solver' : ('lbfgs', 'liblinear'), \n",
    "    'classifier__penalty' : (None, 'l2', 'l1'), \n",
    "}"
   ]
  },
  {
   "cell_type": "code",
   "execution_count": 11,
   "id": "51f251dc-9006-4132-b2d5-d537c17f9c01",
   "metadata": {},
   "outputs": [],
   "source": [
    "def make_pipeline(vectorizer, classifier):\n",
    "    return Pipeline([\n",
    "            ('vectorizer', vectorizer),\n",
    "            ('classifier', classifier)\n",
    "        ])\n",
    "\n",
    "\n",
    "def make_estimator(vectorizer, classifier, params_grid, scorer, data, labels):\n",
    "    pipeline = make_pipeline(vectorizer, classifier)\n",
    "    grid_cv = RandomizedSearchCV(pipeline, params_grid, scoring=scorer, cv=5, random_state=42, n_iter=100)\n",
    "    grid_cv.fit(data, labels)\n",
    "    return grid_cv"
   ]
  },
  {
   "cell_type": "code",
   "execution_count": 62,
   "id": "dce832ba-4a22-45d6-841b-290db3580c85",
   "metadata": {},
   "outputs": [],
   "source": [
    "X_test_stem = X_stem[:6000]\n",
    "X_test_lem = X_lem[:6000]\n",
    "\n",
    "y_test_13_45 = y13_45[:6000]\n",
    "y_test_14_5 = y14_5[:6000]"
   ]
  },
  {
   "cell_type": "markdown",
   "id": "834c1a70-a26c-4b11-a760-8f5be930446d",
   "metadata": {},
   "source": [
    "## Log. Reg."
   ]
  },
  {
   "cell_type": "code",
   "execution_count": 122,
   "id": "09fb7947-fc23-4387-91ab-952c06d8179d",
   "metadata": {},
   "outputs": [
    {
     "name": "stdout",
     "output_type": "stream",
     "text": [
      "CPU times: user 5min 55s, sys: 17 s, total: 6min 12s\n",
      "Wall time: 5min 21s\n"
     ]
    },
    {
     "data": {
      "text/plain": [
       "0.9123333333333333"
      ]
     },
     "execution_count": 122,
     "metadata": {},
     "output_type": "execute_result"
    }
   ],
   "source": [
    "%%time\n",
    "log_reg_tfidf_stem_13_45 = make_estimator(\n",
    "    TfidfVectorizer(),\n",
    "    LogisticRegression(random_state=111),\n",
    "    {**parameters_grid_vectorizer_tfidf, **parameters_grid_logreg},\n",
    "    'accuracy',\n",
    "    X_test_stem,\n",
    "    y_test_13_45\n",
    ")\n",
    "log_reg_tfidf_stem_13_45.best_score_"
   ]
  },
  {
   "cell_type": "code",
   "execution_count": 123,
   "id": "fb50f879-b3f2-42be-b5ce-53025fb092c4",
   "metadata": {},
   "outputs": [
    {
     "name": "stdout",
     "output_type": "stream",
     "text": [
      "CPU times: user 6min 12s, sys: 16.8 s, total: 6min 28s\n",
      "Wall time: 5min 30s\n"
     ]
    },
    {
     "data": {
      "text/plain": [
       "0.8438333333333334"
      ]
     },
     "execution_count": 123,
     "metadata": {},
     "output_type": "execute_result"
    }
   ],
   "source": [
    "%%time\n",
    "log_reg_tfidf_stem_14_5 = make_estimator(\n",
    "    TfidfVectorizer(),\n",
    "    LogisticRegression(random_state=111),\n",
    "    {**parameters_grid_vectorizer_tfidf, **parameters_grid_logreg},\n",
    "    'accuracy',\n",
    "    X_test_stem,\n",
    "    y_test_14_5\n",
    ")\n",
    "log_reg_tfidf_stem_14_5.best_score_"
   ]
  },
  {
   "cell_type": "code",
   "execution_count": 124,
   "id": "d20bae07-adab-4890-a3af-305855d8d769",
   "metadata": {},
   "outputs": [
    {
     "name": "stdout",
     "output_type": "stream",
     "text": [
      "CPU times: user 6min 47s, sys: 17.5 s, total: 7min 5s\n",
      "Wall time: 6min 11s\n"
     ]
    },
    {
     "data": {
      "text/plain": [
       "0.9123333333333334"
      ]
     },
     "execution_count": 124,
     "metadata": {},
     "output_type": "execute_result"
    }
   ],
   "source": [
    "%%time\n",
    "log_reg_tfidf_lem_13_45 = make_estimator(\n",
    "    TfidfVectorizer(),\n",
    "    LogisticRegression(random_state=111),\n",
    "    {**parameters_grid_vectorizer_tfidf, **parameters_grid_logreg},\n",
    "    'accuracy',\n",
    "    X_test_lem,\n",
    "    y_test_13_45\n",
    ")\n",
    "log_reg_tfidf_lem_13_45.best_score_"
   ]
  },
  {
   "cell_type": "code",
   "execution_count": 125,
   "id": "399310e8-d597-48f6-bebe-1cb729ee9e2b",
   "metadata": {},
   "outputs": [
    {
     "name": "stdout",
     "output_type": "stream",
     "text": [
      "CPU times: user 6min 40s, sys: 17.4 s, total: 6min 57s\n",
      "Wall time: 5min 56s\n"
     ]
    },
    {
     "data": {
      "text/plain": [
       "0.8470000000000001"
      ]
     },
     "execution_count": 125,
     "metadata": {},
     "output_type": "execute_result"
    }
   ],
   "source": [
    "%%time\n",
    "log_reg_tfidf_lem_14_5 = make_estimator(\n",
    "    TfidfVectorizer(),\n",
    "    LogisticRegression(random_state=111),\n",
    "    {**parameters_grid_vectorizer_tfidf, **parameters_grid_logreg},\n",
    "    'accuracy',\n",
    "    X_test_lem,\n",
    "    y_test_14_5\n",
    ")\n",
    "log_reg_tfidf_lem_14_5.best_score_"
   ]
  },
  {
   "cell_type": "markdown",
   "id": "879e8f2d-831f-4b94-95d8-d36db7ebb6bc",
   "metadata": {},
   "source": [
    "## SGD"
   ]
  },
  {
   "cell_type": "code",
   "execution_count": 19,
   "id": "34729b13-9d9b-428a-8160-aff31e3c0099",
   "metadata": {},
   "outputs": [
    {
     "name": "stdout",
     "output_type": "stream",
     "text": [
      "CPU times: user 10min 21s, sys: 13.6 s, total: 10min 34s\n",
      "Wall time: 9min 54s\n"
     ]
    },
    {
     "data": {
      "text/plain": [
       "0.925"
      ]
     },
     "execution_count": 19,
     "metadata": {},
     "output_type": "execute_result"
    }
   ],
   "source": [
    "%%time\n",
    "sgd_clf_tfidf_stem_13_45 = make_estimator(\n",
    "    TfidfVectorizer(),\n",
    "    SGDClassifier(random_state=111),\n",
    "    {**parameters_grid_vectorizer_tfidf, **parameters_grid_sgd},\n",
    "    'accuracy',\n",
    "    X_test_stem,\n",
    "    y_test_13_45\n",
    ")\n",
    "sgd_clf_tfidf_stem_13_45.best_score_"
   ]
  },
  {
   "cell_type": "code",
   "execution_count": 127,
   "id": "e010f9e1-67aa-44a8-9684-226f7a90b9f8",
   "metadata": {},
   "outputs": [
    {
     "name": "stdout",
     "output_type": "stream",
     "text": [
      "CPU times: user 12min 32s, sys: 15.5 s, total: 12min 48s\n",
      "Wall time: 12min 10s\n"
     ]
    },
    {
     "data": {
      "text/plain": [
       "0.8634999999999999"
      ]
     },
     "execution_count": 127,
     "metadata": {},
     "output_type": "execute_result"
    }
   ],
   "source": [
    "%%time\n",
    "sgd_clf_tfidf_stem_14_5 = make_estimator(\n",
    "    TfidfVectorizer(),\n",
    "    SGDClassifier(random_state=111),\n",
    "    {**parameters_grid_vectorizer_tfidf, **parameters_grid_sgd},\n",
    "    'accuracy',\n",
    "    X_test_stem,\n",
    "    y_test_14_5\n",
    ")\n",
    "sgd_clf_tfidf_stem_14_5.best_score_"
   ]
  },
  {
   "cell_type": "code",
   "execution_count": 20,
   "id": "48432e3e-6af5-4c77-8268-d0be21d2b0d1",
   "metadata": {},
   "outputs": [
    {
     "name": "stdout",
     "output_type": "stream",
     "text": [
      "CPU times: user 11min 43s, sys: 17.9 s, total: 12min 1s\n",
      "Wall time: 11min 30s\n"
     ]
    },
    {
     "data": {
      "text/plain": [
       "0.9251666666666667"
      ]
     },
     "execution_count": 20,
     "metadata": {},
     "output_type": "execute_result"
    }
   ],
   "source": [
    "%%time\n",
    "sgd_clf_tfidf_lem_13_45 = make_estimator(\n",
    "    TfidfVectorizer(),\n",
    "    SGDClassifier(random_state=111),\n",
    "    {**parameters_grid_vectorizer_tfidf, **parameters_grid_sgd},\n",
    "    'accuracy',\n",
    "    X_test_lem,\n",
    "    y_test_13_45\n",
    ")\n",
    "sgd_clf_tfidf_lem_13_45.best_score_"
   ]
  },
  {
   "cell_type": "code",
   "execution_count": 26,
   "id": "a5d6208c-2b3e-4b21-9390-30fea026ae84",
   "metadata": {},
   "outputs": [
    {
     "data": {
      "text/plain": [
       "{'vectorizer__use_idf': True,\n",
       " 'vectorizer__sublinear_tf': True,\n",
       " 'vectorizer__stop_words': None,\n",
       " 'vectorizer__smooth_idf': False,\n",
       " 'vectorizer__ngram_range': (1, 2),\n",
       " 'vectorizer__min_df': 1,\n",
       " 'vectorizer__max_df': 1.0,\n",
       " 'vectorizer__binary': True,\n",
       " 'vectorizer__analyzer': 'word',\n",
       " 'classifier__penalty': 'elasticnet',\n",
       " 'classifier__loss': 'hinge',\n",
       " 'classifier__class_weight': None}"
      ]
     },
     "execution_count": 26,
     "metadata": {},
     "output_type": "execute_result"
    }
   ],
   "source": [
    "sgd_clf_tfidf_lem_13_45.best_params_"
   ]
  },
  {
   "cell_type": "code",
   "execution_count": 129,
   "id": "e56054aa-f38d-4ab1-a7b2-2e687de05736",
   "metadata": {},
   "outputs": [
    {
     "name": "stdout",
     "output_type": "stream",
     "text": [
      "CPU times: user 13min 34s, sys: 17.1 s, total: 13min 51s\n",
      "Wall time: 13min 50s\n"
     ]
    },
    {
     "data": {
      "text/plain": [
       "0.8603333333333334"
      ]
     },
     "execution_count": 129,
     "metadata": {},
     "output_type": "execute_result"
    }
   ],
   "source": [
    "%%time\n",
    "sgd_clf_tfidf_lem_14_5 = make_estimator(\n",
    "    TfidfVectorizer(),\n",
    "    SGDClassifier(random_state=111),\n",
    "    {**parameters_grid_vectorizer_tfidf, **parameters_grid_sgd},\n",
    "    'accuracy',\n",
    "    X_test_lem,\n",
    "    y_test_14_5\n",
    ")\n",
    "sgd_clf_tfidf_lem_14_5.best_score_"
   ]
  },
  {
   "cell_type": "markdown",
   "id": "68da85d7-e962-4d23-9cc0-55c4e39bb8b1",
   "metadata": {},
   "source": [
    "## lin. svc"
   ]
  },
  {
   "cell_type": "code",
   "execution_count": 17,
   "id": "026f6b2b-da80-4a79-b8e8-8ae48eaa9e5e",
   "metadata": {},
   "outputs": [
    {
     "data": {
      "text/plain": [
       "0.9269999999999999"
      ]
     },
     "execution_count": 17,
     "metadata": {},
     "output_type": "execute_result"
    }
   ],
   "source": [
    "linsvc_clf_tfidf_stem_13_45 = make_estimator(\n",
    "    TfidfVectorizer(),\n",
    "    LinearSVC(random_state=111),\n",
    "    {**parameters_grid_vectorizer_tfidf, **parameters_grid_linsvc},\n",
    "    'accuracy',\n",
    "    X_test_stem,\n",
    "    y_test_13_45\n",
    ")\n",
    "linsvc_clf_tfidf_stem_13_45.best_score_"
   ]
  },
  {
   "cell_type": "code",
   "execution_count": 131,
   "id": "dc2b2fc8-6e17-421e-b7ef-2aeaa4b85235",
   "metadata": {},
   "outputs": [
    {
     "data": {
      "text/plain": [
       "0.8591666666666666"
      ]
     },
     "execution_count": 131,
     "metadata": {},
     "output_type": "execute_result"
    }
   ],
   "source": [
    "linsvc_clf_tfidf_stem_14_5 = make_estimator(\n",
    "    TfidfVectorizer(),\n",
    "    LinearSVC(random_state=111),\n",
    "    {**parameters_grid_vectorizer_tfidf, **parameters_grid_linsvc},\n",
    "    'accuracy',\n",
    "    X_test_stem,\n",
    "    y_test_14_5\n",
    ")\n",
    "linsvc_clf_tfidf_stem_14_5.best_score_"
   ]
  },
  {
   "cell_type": "code",
   "execution_count": 18,
   "id": "e6e05bc6-7280-4619-85ba-92f4e2ea43e7",
   "metadata": {},
   "outputs": [
    {
     "data": {
      "text/plain": [
       "0.9271666666666667"
      ]
     },
     "execution_count": 18,
     "metadata": {},
     "output_type": "execute_result"
    }
   ],
   "source": [
    "linsvc_clf_tfidf_lem_13_45 = make_estimator(\n",
    "    TfidfVectorizer(),\n",
    "    LinearSVC(random_state=111),\n",
    "    {**parameters_grid_vectorizer_tfidf, **parameters_grid_linsvc},\n",
    "    'accuracy',\n",
    "    X_test_lem,\n",
    "    y_test_13_45\n",
    ")\n",
    "linsvc_clf_tfidf_lem_13_45.best_score_"
   ]
  },
  {
   "cell_type": "code",
   "execution_count": 21,
   "id": "6eabff2c-29e8-414c-be6d-18dd2b4bb4c0",
   "metadata": {},
   "outputs": [
    {
     "data": {
      "text/plain": [
       "{'vectorizer__use_idf': False,\n",
       " 'vectorizer__sublinear_tf': True,\n",
       " 'vectorizer__stop_words': None,\n",
       " 'vectorizer__smooth_idf': False,\n",
       " 'vectorizer__ngram_range': (1, 2),\n",
       " 'vectorizer__min_df': 1,\n",
       " 'vectorizer__max_df': 1.0,\n",
       " 'vectorizer__binary': True,\n",
       " 'vectorizer__analyzer': 'word',\n",
       " 'classifier__penalty': 'l1',\n",
       " 'classifier__multi_class': 'crammer_singer',\n",
       " 'classifier__loss': 'squared_hinge',\n",
       " 'classifier__intercept_scaling': 1.0,\n",
       " 'classifier__class_weight': 'balanced',\n",
       " 'classifier__C': 1.3}"
      ]
     },
     "execution_count": 21,
     "metadata": {},
     "output_type": "execute_result"
    }
   ],
   "source": [
    "linsvc_clf_tfidf_lem_13_45.best_params_"
   ]
  },
  {
   "cell_type": "code",
   "execution_count": 133,
   "id": "633ac412-4039-4d1f-83af-601ea79b332a",
   "metadata": {},
   "outputs": [
    {
     "data": {
      "text/plain": [
       "0.8576666666666668"
      ]
     },
     "execution_count": 133,
     "metadata": {},
     "output_type": "execute_result"
    }
   ],
   "source": [
    "linsvc_clf_tfidf_lem_14_5 = make_estimator(\n",
    "    TfidfVectorizer(),\n",
    "    LinearSVC(random_state=111),\n",
    "    {**parameters_grid_vectorizer_tfidf, **parameters_grid_linsvc},\n",
    "    'accuracy',\n",
    "    X_test_lem,\n",
    "    y_test_14_5\n",
    ")\n",
    "linsvc_clf_tfidf_lem_14_5.best_score_"
   ]
  },
  {
   "cell_type": "markdown",
   "id": "37aa7550-4bed-441e-86db-8716c25f88b4",
   "metadata": {},
   "source": [
    "## Random Forest"
   ]
  },
  {
   "cell_type": "code",
   "execution_count": 13,
   "id": "4a9b0817-c72d-466f-9d38-a2b4c9cf6ed0",
   "metadata": {},
   "outputs": [
    {
     "data": {
      "text/plain": [
       "0.9008333333333333"
      ]
     },
     "execution_count": 13,
     "metadata": {},
     "output_type": "execute_result"
    }
   ],
   "source": [
    "rf_clf_tfidf_13_45 = make_estimator(\n",
    "    TfidfVectorizer(),\n",
    "    RandomForestClassifier(random_state=111, n_jobs=4),\n",
    "    {**parameters_grid_vectorizer_tfidf, **parameters_grid_randforest},\n",
    "    'accuracy',\n",
    "    X_test_stem,\n",
    "    y_test_13_45 \n",
    ")\n",
    "rf_clf_tfidf_13_45.best_score_"
   ]
  },
  {
   "cell_type": "code",
   "execution_count": 14,
   "id": "d116d9c7-5ab6-457f-9d32-34c502d83fe3",
   "metadata": {},
   "outputs": [
    {
     "data": {
      "text/plain": [
       "0.8246666666666667"
      ]
     },
     "execution_count": 14,
     "metadata": {},
     "output_type": "execute_result"
    }
   ],
   "source": [
    "rf_clf_tfidf_14_5 = make_estimator(\n",
    "    TfidfVectorizer(),\n",
    "    RandomForestClassifier(random_state=111, n_jobs=4),\n",
    "    {**parameters_grid_vectorizer_tfidf, **parameters_grid_randforest},\n",
    "    'accuracy',\n",
    "    X_test_stem,\n",
    "    y_test_14_5\n",
    ")\n",
    "rf_clf_tfidf_14_5.best_score_"
   ]
  },
  {
   "cell_type": "code",
   "execution_count": 15,
   "id": "2d0bb384-5e6d-4fb7-a998-ae1b69d07a85",
   "metadata": {},
   "outputs": [
    {
     "data": {
      "text/plain": [
       "0.9006666666666666"
      ]
     },
     "execution_count": 15,
     "metadata": {},
     "output_type": "execute_result"
    }
   ],
   "source": [
    "rf_clf_tfidf_lem_13_45 = make_estimator(\n",
    "    TfidfVectorizer(),\n",
    "    RandomForestClassifier(random_state=111, n_jobs=4),\n",
    "    {**parameters_grid_vectorizer_tfidf, **parameters_grid_randforest},\n",
    "    'accuracy',\n",
    "    X_test_lem,\n",
    "    y_test_13_45\n",
    ")\n",
    "rf_clf_tfidf_lem_13_45.best_score_"
   ]
  },
  {
   "cell_type": "code",
   "execution_count": 16,
   "id": "d41a4e7c-5031-461a-b2fb-380505d6fe0c",
   "metadata": {},
   "outputs": [
    {
     "data": {
      "text/plain": [
       "0.8234999999999999"
      ]
     },
     "execution_count": 16,
     "metadata": {},
     "output_type": "execute_result"
    }
   ],
   "source": [
    "rf_clf_tfidf_lem_14_5 = make_estimator(\n",
    "    TfidfVectorizer(),\n",
    "    RandomForestClassifier(random_state=111, n_jobs=4),\n",
    "    {**parameters_grid_vectorizer_tfidf, **parameters_grid_randforest},\n",
    "    'accuracy',\n",
    "    X_test_lem,\n",
    "    y_test_14_5\n",
    ")\n",
    "rf_clf_tfidf_lem_14_5.best_score_"
   ]
  },
  {
   "cell_type": "markdown",
   "id": "88dad18c-cae6-44e7-8b8d-34e3af95ad41",
   "metadata": {},
   "source": [
    "## Trainig"
   ]
  },
  {
   "cell_type": "code",
   "execution_count": 106,
   "id": "81e5b550-1f47-47fd-a42e-7060dc3dac06",
   "metadata": {},
   "outputs": [
    {
     "name": "stdout",
     "output_type": "stream",
     "text": [
      "0.925907258064516\n",
      "CPU times: user 157 ms, sys: 125 ms, total: 282 ms\n",
      "Wall time: 37.1 s\n"
     ]
    }
   ],
   "source": [
    "%%time\n",
    "pipe_1 = make_pipeline(\n",
    "    vectorizer=TfidfVectorizer(ngram_range=(1, 3)),\n",
    "    classifier=LinearSVC(class_weight='balanced')\n",
    ")\n",
    "\n",
    "print(cross_val_score(pipe_1, X_lem, y13_45, cv=4, n_jobs=4).mean())"
   ]
  },
  {
   "cell_type": "code",
   "execution_count": 111,
   "id": "44a500be-d340-4e2d-b4f9-dacfd2409cad",
   "metadata": {},
   "outputs": [],
   "source": [
    "X_train, X_test, y_train, y_test = train_test_split(X_lem, y13_45, test_size=0.2)"
   ]
  },
  {
   "cell_type": "code",
   "execution_count": 113,
   "id": "078eaa8a-f354-4aad-baba-d4819b02c275",
   "metadata": {},
   "outputs": [
    {
     "data": {
      "text/html": [
       "<style>#sk-container-id-1 {color: black;background-color: white;}#sk-container-id-1 pre{padding: 0;}#sk-container-id-1 div.sk-toggleable {background-color: white;}#sk-container-id-1 label.sk-toggleable__label {cursor: pointer;display: block;width: 100%;margin-bottom: 0;padding: 0.3em;box-sizing: border-box;text-align: center;}#sk-container-id-1 label.sk-toggleable__label-arrow:before {content: \"▸\";float: left;margin-right: 0.25em;color: #696969;}#sk-container-id-1 label.sk-toggleable__label-arrow:hover:before {color: black;}#sk-container-id-1 div.sk-estimator:hover label.sk-toggleable__label-arrow:before {color: black;}#sk-container-id-1 div.sk-toggleable__content {max-height: 0;max-width: 0;overflow: hidden;text-align: left;background-color: #f0f8ff;}#sk-container-id-1 div.sk-toggleable__content pre {margin: 0.2em;color: black;border-radius: 0.25em;background-color: #f0f8ff;}#sk-container-id-1 input.sk-toggleable__control:checked~div.sk-toggleable__content {max-height: 200px;max-width: 100%;overflow: auto;}#sk-container-id-1 input.sk-toggleable__control:checked~label.sk-toggleable__label-arrow:before {content: \"▾\";}#sk-container-id-1 div.sk-estimator input.sk-toggleable__control:checked~label.sk-toggleable__label {background-color: #d4ebff;}#sk-container-id-1 div.sk-label input.sk-toggleable__control:checked~label.sk-toggleable__label {background-color: #d4ebff;}#sk-container-id-1 input.sk-hidden--visually {border: 0;clip: rect(1px 1px 1px 1px);clip: rect(1px, 1px, 1px, 1px);height: 1px;margin: -1px;overflow: hidden;padding: 0;position: absolute;width: 1px;}#sk-container-id-1 div.sk-estimator {font-family: monospace;background-color: #f0f8ff;border: 1px dotted black;border-radius: 0.25em;box-sizing: border-box;margin-bottom: 0.5em;}#sk-container-id-1 div.sk-estimator:hover {background-color: #d4ebff;}#sk-container-id-1 div.sk-parallel-item::after {content: \"\";width: 100%;border-bottom: 1px solid gray;flex-grow: 1;}#sk-container-id-1 div.sk-label:hover label.sk-toggleable__label {background-color: #d4ebff;}#sk-container-id-1 div.sk-serial::before {content: \"\";position: absolute;border-left: 1px solid gray;box-sizing: border-box;top: 0;bottom: 0;left: 50%;z-index: 0;}#sk-container-id-1 div.sk-serial {display: flex;flex-direction: column;align-items: center;background-color: white;padding-right: 0.2em;padding-left: 0.2em;position: relative;}#sk-container-id-1 div.sk-item {position: relative;z-index: 1;}#sk-container-id-1 div.sk-parallel {display: flex;align-items: stretch;justify-content: center;background-color: white;position: relative;}#sk-container-id-1 div.sk-item::before, #sk-container-id-1 div.sk-parallel-item::before {content: \"\";position: absolute;border-left: 1px solid gray;box-sizing: border-box;top: 0;bottom: 0;left: 50%;z-index: -1;}#sk-container-id-1 div.sk-parallel-item {display: flex;flex-direction: column;z-index: 1;position: relative;background-color: white;}#sk-container-id-1 div.sk-parallel-item:first-child::after {align-self: flex-end;width: 50%;}#sk-container-id-1 div.sk-parallel-item:last-child::after {align-self: flex-start;width: 50%;}#sk-container-id-1 div.sk-parallel-item:only-child::after {width: 0;}#sk-container-id-1 div.sk-dashed-wrapped {border: 1px dashed gray;margin: 0 0.4em 0.5em 0.4em;box-sizing: border-box;padding-bottom: 0.4em;background-color: white;}#sk-container-id-1 div.sk-label label {font-family: monospace;font-weight: bold;display: inline-block;line-height: 1.2em;}#sk-container-id-1 div.sk-label-container {text-align: center;}#sk-container-id-1 div.sk-container {/* jupyter's `normalize.less` sets `[hidden] { display: none; }` but bootstrap.min.css set `[hidden] { display: none !important; }` so we also need the `!important` here to be able to override the default hidden behavior on the sphinx rendered scikit-learn.org. See: https://github.com/scikit-learn/scikit-learn/issues/21755 */display: inline-block !important;position: relative;}#sk-container-id-1 div.sk-text-repr-fallback {display: none;}</style><div id=\"sk-container-id-1\" class=\"sk-top-container\"><div class=\"sk-text-repr-fallback\"><pre>LinearSVC(class_weight=&#x27;balanced&#x27;)</pre><b>In a Jupyter environment, please rerun this cell to show the HTML representation or trust the notebook. <br />On GitHub, the HTML representation is unable to render, please try loading this page with nbviewer.org.</b></div><div class=\"sk-container\" hidden><div class=\"sk-item\"><div class=\"sk-estimator sk-toggleable\"><input class=\"sk-toggleable__control sk-hidden--visually\" id=\"sk-estimator-id-1\" type=\"checkbox\" checked><label for=\"sk-estimator-id-1\" class=\"sk-toggleable__label sk-toggleable__label-arrow\">LinearSVC</label><div class=\"sk-toggleable__content\"><pre>LinearSVC(class_weight=&#x27;balanced&#x27;)</pre></div></div></div></div></div>"
      ],
      "text/plain": [
       "LinearSVC(class_weight='balanced')"
      ]
     },
     "execution_count": 113,
     "metadata": {},
     "output_type": "execute_result"
    }
   ],
   "source": [
    "vectorizer = TfidfVectorizer(ngram_range=(1, 3))\n",
    "X_transf = vectorizer.fit_transform(X_lem)\n",
    "\n",
    "X_train, X_test, y_train, y_test = train_test_split(X_transf, y13_45, test_size=0.2)\n",
    "\n",
    "linsvc_clf = LinearSVC(class_weight='balanced')\n",
    "linsvc_clf.fit(X_train, y_train)"
   ]
  },
  {
   "cell_type": "code",
   "execution_count": 115,
   "id": "d11804b8-8c70-4113-ba15-35d35c194697",
   "metadata": {},
   "outputs": [
    {
     "name": "stdout",
     "output_type": "stream",
     "text": [
      "              precision    recall  f1-score   support\n",
      "\n",
      "           0       0.81      0.72      0.76      1908\n",
      "           1       0.95      0.97      0.96     10790\n",
      "\n",
      "    accuracy                           0.93     12698\n",
      "   macro avg       0.88      0.84      0.86     12698\n",
      "weighted avg       0.93      0.93      0.93     12698\n",
      "\n"
     ]
    }
   ],
   "source": [
    "print(classification_report(y_test, linsvc_clf.predict(X_test)))"
   ]
  },
  {
   "cell_type": "code",
   "execution_count": 117,
   "id": "5151c72b-32b1-4da5-975a-b00b5402f028",
   "metadata": {},
   "outputs": [
    {
     "name": "stdout",
     "output_type": "stream",
     "text": [
      "0.9604587155963302\n"
     ]
    }
   ],
   "source": [
    "print(f1_score(y_test, linsvc_clf.predict(X_test)))"
   ]
  },
  {
   "cell_type": "code",
   "execution_count": 122,
   "id": "fac6e4ee-8bbe-4d19-a8e7-c51a71ca9768",
   "metadata": {},
   "outputs": [
    {
     "data": {
      "text/html": [
       "<style>#sk-container-id-2 {color: black;background-color: white;}#sk-container-id-2 pre{padding: 0;}#sk-container-id-2 div.sk-toggleable {background-color: white;}#sk-container-id-2 label.sk-toggleable__label {cursor: pointer;display: block;width: 100%;margin-bottom: 0;padding: 0.3em;box-sizing: border-box;text-align: center;}#sk-container-id-2 label.sk-toggleable__label-arrow:before {content: \"▸\";float: left;margin-right: 0.25em;color: #696969;}#sk-container-id-2 label.sk-toggleable__label-arrow:hover:before {color: black;}#sk-container-id-2 div.sk-estimator:hover label.sk-toggleable__label-arrow:before {color: black;}#sk-container-id-2 div.sk-toggleable__content {max-height: 0;max-width: 0;overflow: hidden;text-align: left;background-color: #f0f8ff;}#sk-container-id-2 div.sk-toggleable__content pre {margin: 0.2em;color: black;border-radius: 0.25em;background-color: #f0f8ff;}#sk-container-id-2 input.sk-toggleable__control:checked~div.sk-toggleable__content {max-height: 200px;max-width: 100%;overflow: auto;}#sk-container-id-2 input.sk-toggleable__control:checked~label.sk-toggleable__label-arrow:before {content: \"▾\";}#sk-container-id-2 div.sk-estimator input.sk-toggleable__control:checked~label.sk-toggleable__label {background-color: #d4ebff;}#sk-container-id-2 div.sk-label input.sk-toggleable__control:checked~label.sk-toggleable__label {background-color: #d4ebff;}#sk-container-id-2 input.sk-hidden--visually {border: 0;clip: rect(1px 1px 1px 1px);clip: rect(1px, 1px, 1px, 1px);height: 1px;margin: -1px;overflow: hidden;padding: 0;position: absolute;width: 1px;}#sk-container-id-2 div.sk-estimator {font-family: monospace;background-color: #f0f8ff;border: 1px dotted black;border-radius: 0.25em;box-sizing: border-box;margin-bottom: 0.5em;}#sk-container-id-2 div.sk-estimator:hover {background-color: #d4ebff;}#sk-container-id-2 div.sk-parallel-item::after {content: \"\";width: 100%;border-bottom: 1px solid gray;flex-grow: 1;}#sk-container-id-2 div.sk-label:hover label.sk-toggleable__label {background-color: #d4ebff;}#sk-container-id-2 div.sk-serial::before {content: \"\";position: absolute;border-left: 1px solid gray;box-sizing: border-box;top: 0;bottom: 0;left: 50%;z-index: 0;}#sk-container-id-2 div.sk-serial {display: flex;flex-direction: column;align-items: center;background-color: white;padding-right: 0.2em;padding-left: 0.2em;position: relative;}#sk-container-id-2 div.sk-item {position: relative;z-index: 1;}#sk-container-id-2 div.sk-parallel {display: flex;align-items: stretch;justify-content: center;background-color: white;position: relative;}#sk-container-id-2 div.sk-item::before, #sk-container-id-2 div.sk-parallel-item::before {content: \"\";position: absolute;border-left: 1px solid gray;box-sizing: border-box;top: 0;bottom: 0;left: 50%;z-index: -1;}#sk-container-id-2 div.sk-parallel-item {display: flex;flex-direction: column;z-index: 1;position: relative;background-color: white;}#sk-container-id-2 div.sk-parallel-item:first-child::after {align-self: flex-end;width: 50%;}#sk-container-id-2 div.sk-parallel-item:last-child::after {align-self: flex-start;width: 50%;}#sk-container-id-2 div.sk-parallel-item:only-child::after {width: 0;}#sk-container-id-2 div.sk-dashed-wrapped {border: 1px dashed gray;margin: 0 0.4em 0.5em 0.4em;box-sizing: border-box;padding-bottom: 0.4em;background-color: white;}#sk-container-id-2 div.sk-label label {font-family: monospace;font-weight: bold;display: inline-block;line-height: 1.2em;}#sk-container-id-2 div.sk-label-container {text-align: center;}#sk-container-id-2 div.sk-container {/* jupyter's `normalize.less` sets `[hidden] { display: none; }` but bootstrap.min.css set `[hidden] { display: none !important; }` so we also need the `!important` here to be able to override the default hidden behavior on the sphinx rendered scikit-learn.org. See: https://github.com/scikit-learn/scikit-learn/issues/21755 */display: inline-block !important;position: relative;}#sk-container-id-2 div.sk-text-repr-fallback {display: none;}</style><div id=\"sk-container-id-2\" class=\"sk-top-container\"><div class=\"sk-text-repr-fallback\"><pre>LinearSVC(class_weight=&#x27;balanced&#x27;)</pre><b>In a Jupyter environment, please rerun this cell to show the HTML representation or trust the notebook. <br />On GitHub, the HTML representation is unable to render, please try loading this page with nbviewer.org.</b></div><div class=\"sk-container\" hidden><div class=\"sk-item\"><div class=\"sk-estimator sk-toggleable\"><input class=\"sk-toggleable__control sk-hidden--visually\" id=\"sk-estimator-id-2\" type=\"checkbox\" checked><label for=\"sk-estimator-id-2\" class=\"sk-toggleable__label sk-toggleable__label-arrow\">LinearSVC</label><div class=\"sk-toggleable__content\"><pre>LinearSVC(class_weight=&#x27;balanced&#x27;)</pre></div></div></div></div></div>"
      ],
      "text/plain": [
       "LinearSVC(class_weight='balanced')"
      ]
     },
     "execution_count": 122,
     "metadata": {},
     "output_type": "execute_result"
    }
   ],
   "source": [
    "linsvc_clf.fit(X_transf, y13_45)"
   ]
  },
  {
   "cell_type": "code",
   "execution_count": 123,
   "id": "7b8c2a22-714b-42ad-8a6a-b218b014f7c1",
   "metadata": {},
   "outputs": [],
   "source": [
    "with open(\"linsvc_clf.pkl\", \"wb\") as file:\n",
    "    pickle.dump(linsvc_clf, file)"
   ]
  },
  {
   "cell_type": "code",
   "execution_count": 124,
   "id": "75c57b3d-a281-4afb-bcd0-d6f6558a6787",
   "metadata": {},
   "outputs": [],
   "source": [
    "with open(\"tfidf_vectorizer.pkl\", \"wb\") as file:\n",
    "    pickle.dump(vectorizer, file)"
   ]
  },
  {
   "cell_type": "code",
   "execution_count": null,
   "id": "aab72212-9f75-477a-a057-b41df4f1c704",
   "metadata": {},
   "outputs": [],
   "source": []
  }
 ],
 "metadata": {
  "kernelspec": {
   "display_name": "Python 3 (ipykernel)",
   "language": "python",
   "name": "python3"
  },
  "language_info": {
   "codemirror_mode": {
    "name": "ipython",
    "version": 3
   },
   "file_extension": ".py",
   "mimetype": "text/x-python",
   "name": "python",
   "nbconvert_exporter": "python",
   "pygments_lexer": "ipython3",
   "version": "3.10.2"
  }
 },
 "nbformat": 4,
 "nbformat_minor": 5
}
